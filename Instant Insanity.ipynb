{
 "cells": [
  {
   "cell_type": "code",
   "execution_count": 1,
   "metadata": {},
   "outputs": [],
   "source": [
    "import math as math\n",
    "import matplotlib.pyplot as plt"
   ]
  },
  {
   "cell_type": "code",
   "execution_count": 2,
   "metadata": {},
   "outputs": [],
   "source": [
    "def cubesGenerator(colors):\n",
    "    cubes = []\n",
    "    cube = []\n",
    "    pair = []\n",
    "    for i in range(180):\n",
    "        pair.append(colors[i])\n",
    "        if( (i+1) %2 == 0):\n",
    "            cube.append(pair)\n",
    "            pair = []\n",
    "        if( (i+1) %6 == 0 ):\n",
    "            cubes.append(cube)\n",
    "            cube = []\n",
    "    return cubes"
   ]
  },
  {
   "cell_type": "markdown",
   "metadata": {},
   "source": [
    "The plan is to use a stack to implement DFS brute force through the given puzzles. I always want to do a histogram of the colors each puzzle and see what analysis I can do to understand each puzzle."
   ]
  },
  {
   "cell_type": "code",
   "execution_count": 3,
   "metadata": {},
   "outputs": [],
   "source": [
    "class Stack():\n",
    "    def __init__(self):\n",
    "        self.stack = []\n",
    "    def push(self, a):\n",
    "        self.stack.insert(0,a)\n",
    "    def pop(self):\n",
    "        return self.stack.pop(0)\n",
    "    def top(self):\n",
    "        print(self.stack[0])\n",
    "    def size(self):\n",
    "        return len(self.stack)"
   ]
  },
  {
   "cell_type": "markdown",
   "metadata": {},
   "source": [
    "Testing Stack"
   ]
  },
  {
   "cell_type": "code",
   "execution_count": 4,
   "metadata": {},
   "outputs": [
    {
     "name": "stdout",
     "output_type": "stream",
     "text": [
      "1\n",
      "3\n",
      "3\n"
     ]
    }
   ],
   "source": [
    "stack = Stack()\n",
    "\n",
    "stack.push(3)\n",
    "\n",
    "print(stack.size())\n",
    "\n",
    "stack.top()\n",
    "\n",
    "print(stack.pop())"
   ]
  },
  {
   "cell_type": "markdown",
   "metadata": {},
   "source": [
    "Implementing the Depth First Search"
   ]
  },
  {
   "cell_type": "code",
   "execution_count": 5,
   "metadata": {},
   "outputs": [],
   "source": [
    "color1 = [(1 + math.floor( i * math.pi % 30)) for i in range(1,181)]"
   ]
  },
  {
   "cell_type": "code",
   "execution_count": 9,
   "metadata": {},
   "outputs": [
    {
     "name": "stdout",
     "output_type": "stream",
     "text": [
      "180\n",
      "[4, 7, 10, 13, 16, 19, 22, 26, 29, 2, 5, 8, 11, 14, 18, 21, 24, 27, 30, 3, 6, 10, 13, 16, 19, 22, 25, 28, 2, 5, 8, 11, 14, 17, 20, 24, 27, 30, 3, 6, 9, 12, 16, 19, 22, 25, 28, 1, 4, 8, 11, 14, 17, 20, 23, 26, 30, 3, 6, 9, 12, 15, 18, 22, 25, 28, 1, 4, 7, 10, 14, 17, 20, 23, 26, 29, 2, 6, 9, 12, 15, 18, 21, 24, 28, 1, 4, 7, 10, 13, 16, 20, 23, 26, 29, 2, 5, 8, 12, 15, 18, 21, 24, 27, 30, 4, 7, 10, 13, 16, 19, 22, 25, 29, 2, 5, 8, 11, 14, 17, 21, 24, 27, 30, 3, 6, 9, 13, 16, 19, 22, 25, 28, 1, 5, 8, 11, 14, 17, 20, 23, 27, 30, 3, 6, 9, 12, 15, 19, 22, 25, 28, 1, 4, 7, 11, 14, 17, 20, 23, 26, 29, 3, 6, 9, 12, 15, 18, 21, 25, 28, 1, 4, 7, 10, 13, 17, 20, 23, 26]\n",
      "30\n",
      "[[4, 7], [10, 13], [16, 19]]\n",
      "[[22, 26], [29, 2], [5, 8]]\n",
      "[[11, 14], [18, 21], [24, 27]]\n",
      "[[30, 3], [6, 10], [13, 16]]\n",
      "[[19, 22], [25, 28], [2, 5]]\n",
      "[[8, 11], [14, 17], [20, 24]]\n",
      "[[27, 30], [3, 6], [9, 12]]\n",
      "[[16, 19], [22, 25], [28, 1]]\n",
      "[[4, 8], [11, 14], [17, 20]]\n",
      "[[23, 26], [30, 3], [6, 9]]\n",
      "[[12, 15], [18, 22], [25, 28]]\n",
      "[[1, 4], [7, 10], [14, 17]]\n",
      "[[20, 23], [26, 29], [2, 6]]\n",
      "[[9, 12], [15, 18], [21, 24]]\n",
      "[[28, 1], [4, 7], [10, 13]]\n",
      "[[16, 20], [23, 26], [29, 2]]\n",
      "[[5, 8], [12, 15], [18, 21]]\n",
      "[[24, 27], [30, 4], [7, 10]]\n",
      "[[13, 16], [19, 22], [25, 29]]\n",
      "[[2, 5], [8, 11], [14, 17]]\n",
      "[[21, 24], [27, 30], [3, 6]]\n",
      "[[9, 13], [16, 19], [22, 25]]\n",
      "[[28, 1], [5, 8], [11, 14]]\n",
      "[[17, 20], [23, 27], [30, 3]]\n",
      "[[6, 9], [12, 15], [19, 22]]\n",
      "[[25, 28], [1, 4], [7, 11]]\n",
      "[[14, 17], [20, 23], [26, 29]]\n",
      "[[3, 6], [9, 12], [15, 18]]\n",
      "[[21, 25], [28, 1], [4, 7]]\n",
      "[[10, 13], [17, 20], [23, 26]]\n"
     ]
    }
   ],
   "source": [
    "print(len(color1))\n",
    "print(color1)\n",
    "cubes1 = cubesGenerator(color1)\n",
    "print(len(cubes1))\n",
    "for i in range(30):\n",
    "    print(cubes1[i])"
   ]
  },
  {
   "cell_type": "code",
   "execution_count": 28,
   "metadata": {},
   "outputs": [],
   "source": [
    "def DFS(cubes,index):\n",
    "    \n",
    "    # visited structure that mirrors the cubes but with only true and false values\n",
    "    visited = [[False, False,False] for i in range(len(cubes))]\n",
    "    thread1 = [[False, False,False] for i in range(len(cubes))]\n",
    "    thread2 = [[False, False,False] for i in range(len(cubes))]\n",
    "    \n",
    "    # array same size as the number of colors to keep track of multiplicity\n",
    "    multiplicity = [0 for i in range(30)]\n",
    "    \n",
    "    good = True\n",
    "    \n",
    "    # will store all half solutions that are found\n",
    "    halfSolutions = []\n",
    "    # will build the current half solution here\n",
    "    halfSolution = []\n",
    "    \n",
    "    \n",
    "    # stack keep track of the search\n",
    "    s = Stack()\n",
    "    # push in the first cube's pair based on the index\n",
    "    s.push([cubes[0][index],index])\n",
    "    # add the first entry to the half solution\n",
    "    halfSolution.append([cubes[0][index], index])\n",
    "    \n",
    "    visited[0][index] = True\n",
    "    \n",
    "    \n",
    "    \n",
    "    # will run as long as the stack is not empty\n",
    "    # might have to change this to not stop until a certain iteration is met\n",
    "    # i want every possibility to be run through - brute force unfortunately\n",
    "    while(s.size() != 0):\n",
    "        \n",
    "        print(\"This ran\")\n",
    "        \n",
    "        # variable to store the current node\n",
    "        pair = s.pop()\n",
    "                \n",
    "        if( (multiplicity[pair[0][0]] < 3) and (multiplicity[pair[0][1]] < 3) ):\n",
    "            multiplicity[pair[0][0]] += 1\n",
    "            multiplicity[pair[0][1]] += 1\n",
    "        \n",
    "        # if i make it to the 30th cube and it works I want to save this half solution\n",
    "        if(pair[1] == 29):\n",
    "            # halfSolution is saved to halfSolutions\n",
    "            halfSolutions.append(halfSolution)\n",
    "            # clears halfSolution but maybe I just want to go back far enough to the last\n",
    "            # decision point where I can explore and an unexplored path\n",
    "            # maybe after I clear I can create a helper functions to restore the halfSolution until\n",
    "            # where I need it to be\n",
    "            halfSolution = []\n",
    "            \n",
    "            # i think i would want to call the helper function right here\n",
    "            # i need to figure out how to save the state\n",
    "            # halfSolution = hSRebuild()\n",
    "            \n",
    "        print(pair[0][0])\n",
    "        print(pair[0][1])\n",
    "        print(pair[0][2])\n",
    "            \n",
    "        # here i'll be building the half solution and explore every branch in numerical order\n",
    "        for i in range(3):\n",
    "            if ( (visited[pair[1]+1][i] == False) and (multiplicity[cubes[pair[1]+1][i][0]] < 3 and multiplicity[cubes[pair[1]+1][i][1]] < 3) ): \n",
    "                s.push([cubes[pair[1]+1][i],i])\n",
    "                halfSolution.append(cubes[pair[1]+1][i])                \n",
    "                print(\"This ran\")     \n",
    "    \n",
    "    if(len(halfSolutions) == 0):\n",
    "        print(\"No half solutions found starting from index \", index)\n",
    "        \n",
    "    return halfSolutions"
   ]
  },
  {
   "cell_type": "code",
   "execution_count": 29,
   "metadata": {},
   "outputs": [
    {
     "name": "stdout",
     "output_type": "stream",
     "text": [
      "This ran\n",
      "4\n",
      "7\n"
     ]
    },
    {
     "ename": "IndexError",
     "evalue": "list index out of range",
     "output_type": "error",
     "traceback": [
      "\u001b[1;31m---------------------------------------------------------------------------\u001b[0m",
      "\u001b[1;31mIndexError\u001b[0m                                Traceback (most recent call last)",
      "\u001b[1;32m<ipython-input-29-d7ff0b701239>\u001b[0m in \u001b[0;36m<module>\u001b[1;34m\u001b[0m\n\u001b[1;32m----> 1\u001b[1;33m \u001b[0mSolutions\u001b[0m \u001b[1;33m=\u001b[0m \u001b[0mDFS\u001b[0m\u001b[1;33m(\u001b[0m\u001b[0mcubes1\u001b[0m\u001b[1;33m,\u001b[0m\u001b[1;36m0\u001b[0m\u001b[1;33m)\u001b[0m\u001b[1;33m\u001b[0m\u001b[1;33m\u001b[0m\u001b[0m\n\u001b[0m\u001b[0;32m      2\u001b[0m \u001b[0mprint\u001b[0m\u001b[1;33m(\u001b[0m\u001b[0mSolutions\u001b[0m\u001b[1;33m)\u001b[0m\u001b[1;33m\u001b[0m\u001b[1;33m\u001b[0m\u001b[0m\n\u001b[0;32m      3\u001b[0m \u001b[1;33m\u001b[0m\u001b[0m\n\u001b[0;32m      4\u001b[0m \u001b[1;31m# it seems like the lists might not be aligned and the stack is growing largers than the indeces expect\u001b[0m\u001b[1;33m\u001b[0m\u001b[1;33m\u001b[0m\u001b[1;33m\u001b[0m\u001b[0m\n",
      "\u001b[1;32m<ipython-input-28-95ffb47b2f72>\u001b[0m in \u001b[0;36mDFS\u001b[1;34m(cubes, index)\u001b[0m\n\u001b[0;32m     58\u001b[0m         \u001b[0mprint\u001b[0m\u001b[1;33m(\u001b[0m\u001b[0mpair\u001b[0m\u001b[1;33m[\u001b[0m\u001b[1;36m0\u001b[0m\u001b[1;33m]\u001b[0m\u001b[1;33m[\u001b[0m\u001b[1;36m0\u001b[0m\u001b[1;33m]\u001b[0m\u001b[1;33m)\u001b[0m\u001b[1;33m\u001b[0m\u001b[1;33m\u001b[0m\u001b[0m\n\u001b[0;32m     59\u001b[0m         \u001b[0mprint\u001b[0m\u001b[1;33m(\u001b[0m\u001b[0mpair\u001b[0m\u001b[1;33m[\u001b[0m\u001b[1;36m0\u001b[0m\u001b[1;33m]\u001b[0m\u001b[1;33m[\u001b[0m\u001b[1;36m1\u001b[0m\u001b[1;33m]\u001b[0m\u001b[1;33m)\u001b[0m\u001b[1;33m\u001b[0m\u001b[1;33m\u001b[0m\u001b[0m\n\u001b[1;32m---> 60\u001b[1;33m         \u001b[0mprint\u001b[0m\u001b[1;33m(\u001b[0m\u001b[0mpair\u001b[0m\u001b[1;33m[\u001b[0m\u001b[1;36m0\u001b[0m\u001b[1;33m]\u001b[0m\u001b[1;33m[\u001b[0m\u001b[1;36m2\u001b[0m\u001b[1;33m]\u001b[0m\u001b[1;33m)\u001b[0m\u001b[1;33m\u001b[0m\u001b[1;33m\u001b[0m\u001b[0m\n\u001b[0m\u001b[0;32m     61\u001b[0m \u001b[1;33m\u001b[0m\u001b[0m\n\u001b[0;32m     62\u001b[0m         \u001b[1;31m# here i'll be building the half solution and explore every branch in numerical order\u001b[0m\u001b[1;33m\u001b[0m\u001b[1;33m\u001b[0m\u001b[1;33m\u001b[0m\u001b[0m\n",
      "\u001b[1;31mIndexError\u001b[0m: list index out of range"
     ]
    }
   ],
   "source": [
    "Solutions = DFS(cubes1,0)\n",
    "print(Solutions)\n",
    "\n",
    "# it seems like the lists might not be aligned and the stack is growing largers than the indeces expect"
   ]
  },
  {
   "cell_type": "markdown",
   "metadata": {},
   "source": [
    "## Puzzle 1 Color Generator"
   ]
  },
  {
   "cell_type": "code",
   "execution_count": 13,
   "metadata": {},
   "outputs": [],
   "source": [
    "color2 = [(1 + math.floor( i * math.e % 30)) for i in range(1,181)]\n",
    "color3 = [(1 + math.floor( i * math.sqrt(3) ) % 30) for i in range(1,181)]\n",
    "color4 = [(1 + math.floor( i * math.sqrt(5)) % 30) for i in range(1,181)]"
   ]
  },
  {
   "cell_type": "code",
   "execution_count": 14,
   "metadata": {},
   "outputs": [
    {
     "name": "stdout",
     "output_type": "stream",
     "text": [
      "180\n",
      "[3, 6, 9, 11, 14, 17, 20, 22, 25, 28, 30, 3, 6, 9, 11, 14, 17, 19, 22, 25, 28, 30, 3, 6, 8, 11, 14, 17, 19, 22, 25, 27, 30, 3, 6, 8, 11, 14, 17, 19, 22, 25, 27, 30, 3, 6, 8, 11, 14, 16, 19, 22, 25, 27, 30, 3, 5, 8, 11, 14, 16, 19, 22, 24, 27, 30, 3, 5, 8, 11, 13, 16, 19, 22, 24, 27, 30, 3, 5, 8, 11, 13, 16, 19, 22, 24, 27, 30, 2, 5, 8, 11, 13, 16, 19, 21, 24, 27, 30, 2, 5, 8, 10, 13, 16, 19, 21, 24, 27, 30, 2, 5, 8, 10, 13, 16, 19, 21, 24, 27, 29, 2, 5, 8, 10, 13, 16, 18, 21, 24, 27, 29, 2, 5, 7, 10, 13, 16, 18, 21, 24, 26, 29, 2, 5, 7, 10, 13, 16, 18, 21, 24, 26, 29, 2, 5, 7, 10, 13, 15, 18, 21, 24, 26, 29, 2, 4, 7, 10, 13, 15, 18, 21, 23, 26, 29, 2, 4, 7, 10]\n",
      "30\n",
      "[[3, 6], [9, 11], [14, 17]]\n",
      "[[20, 22], [25, 28], [30, 3]]\n",
      "[[6, 9], [11, 14], [17, 19]]\n",
      "[[22, 25], [28, 30], [3, 6]]\n",
      "[[8, 11], [14, 17], [19, 22]]\n",
      "[[25, 27], [30, 3], [6, 8]]\n",
      "[[11, 14], [17, 19], [22, 25]]\n",
      "[[27, 30], [3, 6], [8, 11]]\n",
      "[[14, 16], [19, 22], [25, 27]]\n",
      "[[30, 3], [5, 8], [11, 14]]\n",
      "[[16, 19], [22, 24], [27, 30]]\n",
      "[[3, 5], [8, 11], [13, 16]]\n",
      "[[19, 22], [24, 27], [30, 3]]\n",
      "[[5, 8], [11, 13], [16, 19]]\n",
      "[[22, 24], [27, 30], [2, 5]]\n",
      "[[8, 11], [13, 16], [19, 21]]\n",
      "[[24, 27], [30, 2], [5, 8]]\n",
      "[[10, 13], [16, 19], [21, 24]]\n",
      "[[27, 30], [2, 5], [8, 10]]\n",
      "[[13, 16], [19, 21], [24, 27]]\n",
      "[[29, 2], [5, 8], [10, 13]]\n",
      "[[16, 18], [21, 24], [27, 29]]\n",
      "[[2, 5], [7, 10], [13, 16]]\n",
      "[[18, 21], [24, 26], [29, 2]]\n",
      "[[5, 7], [10, 13], [16, 18]]\n",
      "[[21, 24], [26, 29], [2, 5]]\n",
      "[[7, 10], [13, 15], [18, 21]]\n",
      "[[24, 26], [29, 2], [4, 7]]\n",
      "[[10, 13], [15, 18], [21, 23]]\n",
      "[[26, 29], [2, 4], [7, 10]]\n"
     ]
    }
   ],
   "source": [
    "print(len(color2))\n",
    "print(color2)\n",
    "cubes2 = cubesGenerator(color2)\n",
    "print(len(cubes2))\n",
    "for i in range(30):\n",
    "    print(cubes2[i])"
   ]
  },
  {
   "cell_type": "code",
   "execution_count": 15,
   "metadata": {},
   "outputs": [
    {
     "name": "stdout",
     "output_type": "stream",
     "text": [
      "180\n",
      "[2, 4, 6, 7, 9, 11, 13, 14, 16, 18, 20, 21, 23, 25, 26, 28, 30, 2, 3, 5, 7, 9, 10, 12, 14, 16, 17, 19, 21, 22, 24, 26, 28, 29, 1, 3, 5, 6, 8, 10, 12, 13, 15, 17, 18, 20, 22, 24, 25, 27, 29, 1, 2, 4, 6, 7, 9, 11, 13, 14, 16, 18, 20, 21, 23, 25, 27, 28, 30, 2, 3, 5, 7, 9, 10, 12, 14, 16, 17, 19, 21, 23, 24, 26, 28, 29, 1, 3, 5, 6, 8, 10, 12, 13, 15, 17, 19, 20, 22, 24, 25, 27, 29, 1, 2, 4, 6, 8, 9, 11, 13, 14, 16, 18, 20, 21, 23, 25, 27, 28, 30, 2, 4, 5, 7, 9, 10, 12, 14, 16, 17, 19, 21, 23, 24, 26, 28, 30, 1, 3, 5, 6, 8, 10, 12, 13, 15, 17, 19, 20, 22, 24, 26, 27, 29, 1, 2, 4, 6, 8, 9, 11, 13, 15, 16, 18, 20, 21, 23, 25, 27, 28, 30, 2, 4, 5, 7, 9, 11, 12]\n",
      "30\n",
      "[[2, 4], [6, 7], [9, 11]]\n",
      "[[13, 14], [16, 18], [20, 21]]\n",
      "[[23, 25], [26, 28], [30, 2]]\n",
      "[[3, 5], [7, 9], [10, 12]]\n",
      "[[14, 16], [17, 19], [21, 22]]\n",
      "[[24, 26], [28, 29], [1, 3]]\n",
      "[[5, 6], [8, 10], [12, 13]]\n",
      "[[15, 17], [18, 20], [22, 24]]\n",
      "[[25, 27], [29, 1], [2, 4]]\n",
      "[[6, 7], [9, 11], [13, 14]]\n",
      "[[16, 18], [20, 21], [23, 25]]\n",
      "[[27, 28], [30, 2], [3, 5]]\n",
      "[[7, 9], [10, 12], [14, 16]]\n",
      "[[17, 19], [21, 23], [24, 26]]\n",
      "[[28, 29], [1, 3], [5, 6]]\n",
      "[[8, 10], [12, 13], [15, 17]]\n",
      "[[19, 20], [22, 24], [25, 27]]\n",
      "[[29, 1], [2, 4], [6, 8]]\n",
      "[[9, 11], [13, 14], [16, 18]]\n",
      "[[20, 21], [23, 25], [27, 28]]\n",
      "[[30, 2], [4, 5], [7, 9]]\n",
      "[[10, 12], [14, 16], [17, 19]]\n",
      "[[21, 23], [24, 26], [28, 30]]\n",
      "[[1, 3], [5, 6], [8, 10]]\n",
      "[[12, 13], [15, 17], [19, 20]]\n",
      "[[22, 24], [26, 27], [29, 1]]\n",
      "[[2, 4], [6, 8], [9, 11]]\n",
      "[[13, 15], [16, 18], [20, 21]]\n",
      "[[23, 25], [27, 28], [30, 2]]\n",
      "[[4, 5], [7, 9], [11, 12]]\n"
     ]
    }
   ],
   "source": [
    "print(len(color3))\n",
    "print(color3)\n",
    "cubes3 = cubesGenerator(color3)\n",
    "print(len(cubes3))\n",
    "for i in range(30):\n",
    "    print(cubes3[i])"
   ]
  },
  {
   "cell_type": "code",
   "execution_count": 16,
   "metadata": {},
   "outputs": [
    {
     "name": "stdout",
     "output_type": "stream",
     "text": [
      "180\n",
      "[3, 5, 7, 9, 12, 14, 16, 18, 21, 23, 25, 27, 30, 2, 4, 6, 9, 11, 13, 15, 17, 20, 22, 24, 26, 29, 1, 3, 5, 8, 10, 12, 14, 17, 19, 21, 23, 25, 28, 30, 2, 4, 7, 9, 11, 13, 16, 18, 20, 22, 25, 27, 29, 1, 3, 6, 8, 10, 12, 15, 17, 19, 21, 24, 26, 28, 30, 3, 5, 7, 9, 11, 14, 16, 18, 20, 23, 25, 27, 29, 2, 4, 6, 8, 11, 13, 15, 17, 20, 22, 24, 26, 28, 1, 3, 5, 7, 10, 12, 14, 16, 19, 21, 23, 25, 28, 30, 2, 4, 6, 9, 11, 13, 15, 18, 20, 22, 24, 27, 29, 1, 3, 6, 8, 10, 12, 14, 17, 19, 21, 23, 26, 28, 30, 2, 5, 7, 9, 11, 14, 16, 18, 20, 22, 25, 27, 29, 1, 4, 6, 8, 10, 13, 15, 17, 19, 22, 24, 26, 28, 1, 3, 5, 7, 9, 12, 14, 16, 18, 21, 23, 25, 27, 30, 2, 4, 6, 9, 11, 13]\n",
      "30\n",
      "[[3, 5], [7, 9], [12, 14]]\n",
      "[[16, 18], [21, 23], [25, 27]]\n",
      "[[30, 2], [4, 6], [9, 11]]\n",
      "[[13, 15], [17, 20], [22, 24]]\n",
      "[[26, 29], [1, 3], [5, 8]]\n",
      "[[10, 12], [14, 17], [19, 21]]\n",
      "[[23, 25], [28, 30], [2, 4]]\n",
      "[[7, 9], [11, 13], [16, 18]]\n",
      "[[20, 22], [25, 27], [29, 1]]\n",
      "[[3, 6], [8, 10], [12, 15]]\n",
      "[[17, 19], [21, 24], [26, 28]]\n",
      "[[30, 3], [5, 7], [9, 11]]\n",
      "[[14, 16], [18, 20], [23, 25]]\n",
      "[[27, 29], [2, 4], [6, 8]]\n",
      "[[11, 13], [15, 17], [20, 22]]\n",
      "[[24, 26], [28, 1], [3, 5]]\n",
      "[[7, 10], [12, 14], [16, 19]]\n",
      "[[21, 23], [25, 28], [30, 2]]\n",
      "[[4, 6], [9, 11], [13, 15]]\n",
      "[[18, 20], [22, 24], [27, 29]]\n",
      "[[1, 3], [6, 8], [10, 12]]\n",
      "[[14, 17], [19, 21], [23, 26]]\n",
      "[[28, 30], [2, 5], [7, 9]]\n",
      "[[11, 14], [16, 18], [20, 22]]\n",
      "[[25, 27], [29, 1], [4, 6]]\n",
      "[[8, 10], [13, 15], [17, 19]]\n",
      "[[22, 24], [26, 28], [1, 3]]\n",
      "[[5, 7], [9, 12], [14, 16]]\n",
      "[[18, 21], [23, 25], [27, 30]]\n",
      "[[2, 4], [6, 9], [11, 13]]\n"
     ]
    }
   ],
   "source": [
    "print(len(color4))\n",
    "print(color4)\n",
    "cubes4 = cubesGenerator(color4)\n",
    "print(len(cubes4))\n",
    "for i in range(30):\n",
    "    print(cubes4[i])"
   ]
  },
  {
   "cell_type": "markdown",
   "metadata": {},
   "source": [
    "I've managed to split the colors into cubes. I think I need to split the colors into pairs for each cube. Then put all the pairs into three sets of lists. Then design the DFS algorithm around it.\n",
    "\n",
    "The nature of DFS is to go through each set until it reaches the end.\n",
    "\n",
    "Since the color pair indeces will be numbered, it will simply choose the lower indexed color pair first. \n",
    "\n",
    "If it reaches the end but length of the list is less than 30 then its not a half solution.\n",
    "\n",
    "If a color appears more than twice then we have to check another branch.\n",
    "\n",
    "If it finds two half solutions then there is a complete solution."
   ]
  },
  {
   "cell_type": "markdown",
   "metadata": {},
   "source": [
    "*****************************************\n",
    "\n",
    "One huge DFS\n",
    "\n",
    "Find every possible half solution starting with a certain pair.\n",
    "\n",
    "Then find every possible half solution with the second pair.\n",
    "\n",
    "Then find every possible half solution with the third pair.\n",
    "\n",
    "Save every half solution as a list of 30 numbers with each entry being 0, 1, or 2. If any half solutions do not match then we have complete solutions.\n",
    "\n",
    "Then compare every half solution and see how many complete solutions there are.\n",
    "\n",
    "If there are no half solutions then we need to go down a cube and the minimal obstacle decreases by one."
   ]
  },
  {
   "cell_type": "code",
   "execution_count": null,
   "metadata": {},
   "outputs": [],
   "source": []
  },
  {
   "cell_type": "code",
   "execution_count": null,
   "metadata": {},
   "outputs": [],
   "source": []
  },
  {
   "cell_type": "code",
   "execution_count": 24,
   "metadata": {},
   "outputs": [
    {
     "name": "stdout",
     "output_type": "stream",
     "text": [
      "0\n",
      "1\n",
      "2\n"
     ]
    }
   ],
   "source": [
    "for i in range(3):\n",
    "    print(i)"
   ]
  },
  {
   "cell_type": "code",
   "execution_count": null,
   "metadata": {},
   "outputs": [],
   "source": []
  }
 ],
 "metadata": {
  "kernelspec": {
   "display_name": "Python 3",
   "language": "python",
   "name": "python3"
  },
  "language_info": {
   "codemirror_mode": {
    "name": "ipython",
    "version": 3
   },
   "file_extension": ".py",
   "mimetype": "text/x-python",
   "name": "python",
   "nbconvert_exporter": "python",
   "pygments_lexer": "ipython3",
   "version": "3.7.1"
  }
 },
 "nbformat": 4,
 "nbformat_minor": 2
}
